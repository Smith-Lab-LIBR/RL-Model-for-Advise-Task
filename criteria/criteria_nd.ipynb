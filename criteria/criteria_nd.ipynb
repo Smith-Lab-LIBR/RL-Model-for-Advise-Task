{
 "cells": [
  {
   "cell_type": "code",
   "id": "initial_id",
   "metadata": {
    "collapsed": true,
    "ExecuteTime": {
     "end_time": "2024-12-17T18:47:00.035015Z",
     "start_time": "2024-12-17T18:47:00.013546Z"
    }
   },
   "source": [
    "# read in the analysis data from pickle file\n",
    "import pickle\n",
    "\n",
    "file_path = 'criteria.pkl'\n",
    "with open(file_path, 'rb') as infile:\n",
    "    criteria = pickle.load(infile)"
   ],
   "outputs": [],
   "execution_count": 2
  },
  {
   "metadata": {
    "ExecuteTime": {
     "end_time": "2024-12-17T18:47:00.992279Z",
     "start_time": "2024-12-17T18:47:00.986866Z"
    }
   },
   "cell_type": "code",
   "source": [
    "# read the criteria1 dictionary from criteria.pkl\n",
    "correct_incorrect_count_dict = criteria['criteria1']\n",
    "print(f\"total number of subjects: {len(correct_incorrect_count_dict)}\")\n",
    "for subject, correct_incorrect_count in correct_incorrect_count_dict.items():\n",
    "    total_trails = correct_incorrect_count['correct'] + correct_incorrect_count['incorrect']\n",
    "    if total_trails != 360:\n",
    "        print(f\"subject {subject} has total trails not equal to 360\")\n"
   ],
   "id": "4e26b225cd0d69ad",
   "outputs": [
    {
     "name": "stdout",
     "output_type": "stream",
     "text": [
      "total number of subjects: 652\n"
     ]
    }
   ],
   "execution_count": 3
  },
  {
   "metadata": {
    "ExecuteTime": {
     "end_time": "2024-12-17T18:47:02.787329Z",
     "start_time": "2024-12-17T18:47:01.898056Z"
    }
   },
   "cell_type": "code",
   "source": [
    "# draw a histogram of the number of correct trials for each subject\n",
    "import matplotlib.pyplot as plt\n",
    "\n",
    "correct_trials = [correct_incorrect_count_dict[subject]['correct'] for subject in correct_incorrect_count_dict]\n",
    "plt.hist(correct_trials, bins=200)\n",
    "\n",
    "\n",
    "print(f\"max of correct trials: {max(correct_trials)}, percentage: {max(correct_trials)/360}\")\n",
    "print(f\"min of correct trials: {min(correct_trials)}, percentage: {min(correct_trials)/360}\")\n",
    "\n",
    "correct_mean = sum(correct_trials)/len(correct_trials)\n",
    "print(f\"mean of correct trials: {correct_mean}\")\n",
    "correct_sd = sum([abs(x - correct_mean) for x in correct_trials])/len(correct_trials)\n",
    "print(f\"std of correct trials: {correct_sd}\")\n",
    "\n",
    "\n",
    "# draw a range of 2 sd by two vertical lines\n",
    "plt.axvline(x=correct_mean - 2*correct_sd, color='r')\n",
    "plt.axvline(x=correct_mean + 2*correct_sd, color='r')\n",
    "\n",
    "\n",
    "\n",
    "# draw a range of 3 sd by two vertical lines\n",
    "plt.axvline(x=correct_mean - 3*correct_sd, color='g')\n",
    "plt.axvline(x=correct_mean + 3*correct_sd, color='g')\n"
   ],
   "id": "d3805bee0738285e",
   "outputs": [
    {
     "name": "stdout",
     "output_type": "stream",
     "text": [
      "max of correct trials: 274, percentage: 0.7611111111111111\n",
      "min of correct trials: 166, percentage: 0.46111111111111114\n",
      "mean of correct trials: 223.25766871165644\n",
      "std of correct trials: 15.012269938650308\n"
     ]
    },
    {
     "data": {
      "text/plain": [
       "<matplotlib.lines.Line2D at 0x1f57f658680>"
      ]
     },
     "execution_count": 4,
     "metadata": {},
     "output_type": "execute_result"
    },
    {
     "data": {
      "text/plain": [
       "<Figure size 640x480 with 1 Axes>"
      ],
      "image/png": "[encoded data removed]"
     },
     "metadata": {},
     "output_type": "display_data"
    }
   ],
   "execution_count": 4
  },
  {
   "metadata": {
    "ExecuteTime": {
     "end_time": "2024-12-17T18:47:03.439326Z",
     "start_time": "2024-12-17T18:47:03.433784Z"
    }
   },
   "cell_type": "code",
   "source": [
    "left_right_response_dict = criteria['criteria2']\n",
    "print(f\"total number of subjects: {len(left_right_response_dict)}\")\n",
    "for subject, left_right_response in left_right_response_dict.items():\n",
    "    total_trails = left_right_response['left'] + left_right_response['right']\n",
    "    if total_trails != 360:\n",
    "        print(f\"subject {subject} has total trails not equal to 360\")"
   ],
   "id": "f39d24b529636222",
   "outputs": [
    {
     "name": "stdout",
     "output_type": "stream",
     "text": [
      "total number of subjects: 652\n"
     ]
    }
   ],
   "execution_count": 5
  },
  {
   "metadata": {
    "ExecuteTime": {
     "end_time": "2024-12-17T18:47:05.326502Z",
     "start_time": "2024-12-17T18:47:05.015433Z"
    }
   },
   "cell_type": "code",
   "source": [
    "# plot the number of left and right responses for each subject\n",
    "left_responses = [left_right_response_dict[subject]['left'] for subject in left_right_response_dict]\n",
    "right_responses = [left_right_response_dict[subject]['right'] for subject in left_right_response_dict]\n",
    "plt.hist(left_responses, bins=200, alpha=0.5, label='left')\n",
    "plt.hist(right_responses, bins=200, alpha=0.5, label='right')\n",
    "\n",
    "print(\"-\"*20)\n",
    "print(f\"max of left responses: {max(left_responses)}, percentage: {max(left_responses)/360}\")\n",
    "print(f\"min of left responses: {min(left_responses)}, percentage: {min(left_responses)/360}\")\n",
    "\n",
    "print(\"-\"*20)\n",
    "\n",
    "print(f\"max of right responses: {max(right_responses)}, percentage: {max(right_responses)/360}\")\n",
    "print(f\"min of right responses: {min(right_responses)}, percentage: {min(right_responses)/360}\")\n",
    "print(\"-\"*20)\n",
    "right_mean=sum(right_responses)/len(right_responses)\n",
    "print(f\"mean of right responses: {right_mean}\")\n",
    "right_sd = sum([abs(x - right_mean) for x in right_responses])/len(right_responses)\n",
    "print(f\"std of right responses: {right_sd}\")\n",
    "\n",
    "# draw a range of 2 sd by two vertical lines\n",
    "plt.axvline(x=right_mean - 2*right_sd, color='r')\n",
    "plt.axvline(x=right_mean + 2*right_sd, color='r')\n",
    "\n",
    "# draw a range of 3 sd by two vertical lines\n",
    "plt.axvline(x=right_mean - 3*right_sd, color='g')\n",
    "plt.axvline(x=right_mean + 3*right_sd, color='g')\n"
   ],
   "id": "c3351931cb3e6181",
   "outputs": [
    {
     "name": "stdout",
     "output_type": "stream",
     "text": [
      "--------------------\n",
      "max of left responses: 360, percentage: 1.0\n",
      "min of left responses: 1, percentage: 0.002777777777777778\n",
      "--------------------\n",
      "max of right responses: 359, percentage: 0.9972222222222222\n",
      "min of right responses: 0, percentage: 0.0\n",
      "--------------------\n",
      "mean of right responses: 189.74233128834356\n",
      "std of right responses: 15.697711618803869\n"
     ]
    },
    {
     "data": {
      "text/plain": [
       "<matplotlib.lines.Line2D at 0x1f57fcfb620>"
      ]
     },
     "execution_count": 6,
     "metadata": {},
     "output_type": "execute_result"
    },
    {
     "data": {
      "text/plain": [
       "<Figure size 640x480 with 1 Axes>"
      ],
      "image/png": "[encoded data removed]"
     },
     "metadata": {},
     "output_type": "display_data"
    }
   ],
   "execution_count": 6
  },
  {
   "metadata": {
    "ExecuteTime": {
     "end_time": "2024-12-17T18:47:06.152642Z",
     "start_time": "2024-12-17T18:47:06.023917Z"
    }
   },
   "cell_type": "code",
   "source": [
    "reaction_time_dict = criteria['criteria3']\n",
    "print(f\"total number of subjects: {len(reaction_time_dict)}\")\n",
    "\n",
    "avg_rt = [reaction_time_dict[subject]['average_reaction_time'] for subject in reaction_time_dict]\n",
    "plt.hist(avg_rt, bins=100)\n",
    "print(f\"mean of reaction time: {sum(avg_rt)/len(avg_rt)}\", f\"std of reaction time: {sum([(x - sum(avg_rt)/len(avg_rt))**2 for x in avg_rt])/len(avg_rt)}\")\n",
    "print(f\"max of reaction time: {max(avg_rt)}\")\n",
    "print(f\"min of reaction time: {min(avg_rt)}\")\n",
    "\n",
    "# count the number of subjects that has average reaction time greater than 2 seconds\n",
    "count = 0\n",
    "for rt in avg_rt:\n",
    "    if rt > 3:\n",
    "        count += 1\n",
    "print(\"number of subjects with average reaction time greater than 3 seconds: \", count)\n",
    "\n",
    "#draw a line at 3 seconds\n",
    "plt.axvline(x=3, color='r')\n",
    "\n"
   ],
   "id": "cbdbedb5ef206e4d",
   "outputs": [
    {
     "name": "stdout",
     "output_type": "stream",
     "text": [
      "total number of subjects: 652\n",
      "mean of reaction time: 1.156264349011611 std of reaction time: 0.34424579965311936\n",
      "max of reaction time: 5.594070833333983\n",
      "min of reaction time: 0.27430777777706833\n",
      "number of subjects with average reaction time greater than 3 seconds:  11\n"
     ]
    },
    {
     "data": {
      "text/plain": [
       "<matplotlib.lines.Line2D at 0x1f57ff569c0>"
      ]
     },
     "execution_count": 7,
     "metadata": {},
     "output_type": "execute_result"
    },
    {
     "data": {
      "text/plain": [
       "<Figure size 640x480 with 1 Axes>"
      ],
      "image/png": "[encoded data removed]"
     },
     "metadata": {},
     "output_type": "display_data"
    }
   ],
   "execution_count": 7
  },
  {
   "metadata": {
    "ExecuteTime": {
     "end_time": "2024-12-17T18:47:07.047938Z",
     "start_time": "2024-12-17T18:47:06.866424Z"
    }
   },
   "cell_type": "code",
   "source": [
    "took_advice_dict = criteria['criteria4']\n",
    "print(f\"total number of subjects: {len(took_advice_dict)}\")\n",
    "\n",
    "took_advice = [took_advice_dict[subject] for subject in took_advice_dict]\n",
    "plt.hist(took_advice, bins=100)\n",
    "print(f\"mean of took advice: {sum(took_advice)/len(took_advice)}\", f\"std of took advice: {sum([(x - sum(took_advice)/len(took_advice))**2 for x in took_advice])/len(took_advice)}\")\n",
    "print(f\"max of took advice: {max(took_advice)}\")\n",
    "print(f\"min of took advice: {min(took_advice)}\")\n",
    "\n"
   ],
   "id": "c48846576590ff23",
   "outputs": [
    {
     "name": "stdout",
     "output_type": "stream",
     "text": [
      "total number of subjects: 652\n",
      "mean of took advice: 128.75 std of took advice: 8139.325536809816\n",
      "max of took advice: 360\n",
      "min of took advice: 0\n"
     ]
    },
    {
     "data": {
      "text/plain": [
       "<Figure size 640x480 with 1 Axes>"
      ],
      "image/png": "[encoded data removed]"
     },
     "metadata": {},
     "output_type": "display_data"
    }
   ],
   "execution_count": 8
  },
  {
   "metadata": {
    "ExecuteTime": {
     "end_time": "2024-12-17T18:47:07.640127Z",
     "start_time": "2024-12-17T18:47:07.533915Z"
    }
   },
   "cell_type": "code",
   "source": [
    "max_break_time_dict = criteria['criteria5']\n",
    "print(f\"total number of subjects: {len(max_break_time_dict)}\")\n",
    "#\n",
    "# max_break_time = [max_break_time_dict[subject] for subject in max_break_time_dict]\n",
    "# plt.hist(max_break_time, bins=100)\n",
    "# print(f\"mean of max break time: {sum(max_break_time)/len(max_break_time)}\", f\"std of max break time: {sum([(x - sum(max_break_time)/len(max_break_time))**2 for x in max_break_time])/len(max_break_time)}\")\n",
    "# print(f\"max of max break time: {max(max_break_time)}\")\n",
    "# print(f\"min of max break time: {min(max_break_time)}\")\n",
    "\n",
    "\n",
    "# count the number of subjects that has who have rt larger than 1 second\n",
    "\n",
    "break_time = {}\n",
    "for subject, rt in reaction_time_dict.items():\n",
    "    count = 0\n",
    "    reaction_times = rt['reaction_times']\n",
    "    for reaction_time in reaction_times:\n",
    "        if isinstance(reaction_time, tuple):\n",
    "            if reaction_time[0] > 60:\n",
    "                count += 1\n",
    "            if reaction_time[1] > 60:\n",
    "                count += 1\n",
    "        else:\n",
    "            if reaction_time > 60:\n",
    "                count += 1\n",
    "    break_time[subject] = count\n",
    "\n",
    "#histogram of the number of subjects that has rt larger than 1 second\n",
    "break_time = [break_time[subject] for subject in break_time]\n",
    "print(break_time)\n",
    "plt.hist(break_time, bins=7)\n",
    "\n"
   ],
   "id": "64d141ec5dee2f",
   "outputs": [
    {
     "name": "stdout",
     "output_type": "stream",
     "text": [
      "total number of subjects: 652\n",
      "[0, 0, 0, 0, 0, 0, 0, 0, 0, 0, 0, 0, 0, 0, 0, 0, 0, 0, 0, 0, 0, 0, 0, 0, 0, 0, 0, 0, 0, 0, 0, 1, 0, 0, 0, 0, 0, 0, 0, 0, 0, 0, 0, 0, 0, 0, 0, 0, 0, 0, 0, 0, 0, 0, 0, 2, 3, 1, 1, 0, 0, 3, 0, 0, 0, 0, 0, 0, 0, 0, 0, 0, 0, 1, 0, 0, 0, 0, 0, 0, 0, 0, 0, 0, 0, 0, 0, 0, 0, 0, 0, 0, 1, 0, 0, 0, 0, 0, 0, 0, 0, 0, 0, 0, 0, 0, 0, 0, 0, 0, 0, 0, 0, 0, 0, 0, 0, 0, 0, 0, 0, 0, 6, 0, 0, 0, 0, 0, 0, 0, 0, 0, 0, 0, 0, 0, 0, 0, 0, 0, 0, 0, 0, 0, 0, 0, 0, 0, 0, 0, 0, 0, 0, 0, 0, 0, 1, 0, 0, 0, 0, 0, 0, 0, 0, 1, 0, 0, 0, 0, 2, 0, 0, 0, 0, 0, 0, 0, 0, 0, 0, 0, 0, 0, 0, 0, 2, 1, 0, 0, 0, 0, 0, 2, 0, 0, 0, 0, 0, 0, 0, 0, 0, 1, 1, 0, 0, 0, 0, 0, 0, 0, 0, 0, 0, 0, 0, 0, 0, 1, 0, 0, 0, 0, 0, 0, 0, 0, 1, 0, 0, 0, 0, 0, 0, 0, 0, 0, 0, 0, 0, 0, 0, 0, 0, 0, 0, 0, 0, 0, 0, 0, 0, 0, 0, 0, 0, 0, 0, 0, 0, 2, 0, 0, 0, 0, 0, 0, 3, 0, 1, 0, 0, 0, 0, 0, 0, 0, 0, 0, 0, 0, 1, 0, 0, 0, 0, 0, 0, 0, 0, 0, 0, 1, 0, 0, 0, 0, 0, 0, 0, 1, 0, 0, 0, 0, 0, 0, 0, 0, 0, 0, 4, 0, 0, 0, 0, 0, 0, 0, 0, 0, 0, 0, 0, 0, 0, 0, 0, 0, 0, 0, 0, 0, 0, 0, 0, 0, 0, 1, 0, 0, 0, 1, 0, 0, 0, 0, 0, 0, 0, 0, 0, 0, 0, 0, 0, 0, 0, 0, 0, 0, 0, 0, 0, 0, 0, 0, 0, 0, 0, 0, 0, 0, 0, 0, 0, 0, 0, 0, 0, 0, 0, 0, 0, 0, 2, 0, 0, 0, 0, 0, 0, 0, 0, 0, 0, 0, 0, 0, 0, 0, 0, 0, 0, 0, 0, 0, 0, 0, 0, 0, 0, 0, 0, 0, 0, 0, 0, 0, 0, 0, 0, 0, 0, 0, 0, 0, 1, 0, 0, 0, 0, 0, 0, 0, 0, 0, 0, 0, 0, 0, 0, 0, 0, 0, 0, 0, 0, 0, 0, 0, 0, 0, 0, 1, 0, 1, 0, 2, 0, 0, 0, 0, 0, 0, 0, 0, 0, 0, 0, 0, 0, 0, 0, 0, 0, 0, 0, 0, 0, 0, 0, 0, 0, 0, 0, 0, 0, 0, 0, 0, 0, 0, 0, 0, 0, 0, 0, 0, 0, 0, 0, 0, 0, 0, 0, 0, 0, 0, 0, 0, 1, 0, 0, 0, 0, 0, 0, 0, 5, 0, 0, 0, 0, 0, 0, 0, 0, 0, 7, 0, 0, 0, 0, 0, 0, 0, 0, 0, 0, 0, 0, 0, 0, 0, 0, 0, 0, 0, 0, 0, 0, 0, 0, 0, 0, 0, 0, 0, 0, 0, 0, 0, 0, 0, 0, 0, 0, 0, 0, 0, 0, 0, 0, 1, 0, 0, 0, 0, 0, 0, 0, 0, 0, 0, 0, 0, 0, 1, 0, 0, 0, 0, 0, 0, 0, 0, 0, 0, 0, 0, 0, 0, 0, 0, 0, 0, 0, 0, 0, 0, 0, 0, 0, 0, 0, 0, 0, 0, 0, 0, 0, 0, 0, 0, 0, 0, 0, 0, 1, 0, 0, 0, 0, 0, 0, 0, 0, 0, 1, 0, 0, 1, 0, 0, 0, 0, 0, 1, 0, 0]\n"
     ]
    },
    {
     "data": {
      "text/plain": [
       "(array([610.,  28.,   7.,   3.,   1.,   1.,   2.]),\n",
       " array([0., 1., 2., 3., 4., 5., 6., 7.]),\n",
       " <BarContainer object of 7 artists>)"
      ]
     },
     "execution_count": 9,
     "metadata": {},
     "output_type": "execute_result"
    },
    {
     "data": {
      "text/plain": [
       "<Figure size 640x480 with 1 Axes>"
      ],
      "image/png": "[encoded data removed]"
     },
     "metadata": {},
     "output_type": "display_data"
    }
   ],
   "execution_count": 9
  },
  {
   "metadata": {
    "ExecuteTime": {
     "end_time": "2024-12-17T18:47:08.459829Z",
     "start_time": "2024-12-17T18:47:08.282890Z"
    }
   },
   "cell_type": "code",
   "source": [
    "# find the min rt times for each subject\n",
    "min_rt_dict = {}\n",
    "for subject,val in reaction_time_dict.items():\n",
    "    min_rt = float('inf')\n",
    "    for rt in val['reaction_times']:\n",
    "        if isinstance(rt, tuple):\n",
    "            min_rt = min(min_rt, rt[0], rt[1])\n",
    "        else:\n",
    "            min_rt = min(min_rt, rt)\n",
    "    min_rt_dict[subject] = min_rt\n",
    "\n",
    "min_rt = [min_rt_dict[subject] for subject in min_rt_dict]\n",
    "plt.hist(min_rt, bins=100)\n",
    "print(f\"mean of min rt: {sum(min_rt)/len(min_rt)}\", f\"std of min rt: {sum([(x - sum(min_rt)/len(min_rt))**2 for x in min_rt])/len(min_rt)}\")\n",
    "print(f\"max of min rt: {max(min_rt)}\")\n",
    "print(f\"min of min rt: {min(min_rt)}\")\n",
    "\n",
    "\n"
   ],
   "id": "dd353112fafabc8e",
   "outputs": [
    {
     "name": "stdout",
     "output_type": "stream",
     "text": [
      "mean of min rt: 0.16502070551896933 std of min rt: 0.01397809471004877\n",
      "max of min rt: 1.0052000000473527\n",
      "min of min rt: 0.004300000000739601\n"
     ]
    },
    {
     "data": {
      "text/plain": [
       "<Figure size 640x480 with 1 Axes>"
      ],
      "image/png": "[encoded data removed]"
     },
     "metadata": {},
     "output_type": "display_data"
    }
   ],
   "execution_count": 10
  },
  {
   "metadata": {
    "ExecuteTime": {
     "end_time": "2024-12-17T18:47:09.146402Z",
     "start_time": "2024-12-17T18:47:08.986379Z"
    }
   },
   "cell_type": "code",
   "source": [
    "# find the max rt times for each subject\n",
    "result = {}\n",
    "for subject,val in reaction_time_dict.items():\n",
    "    total_reaction_time = 0\n",
    "    total_action_count = 0\n",
    "\n",
    "    for rt in val['reaction_times']:\n",
    "        if isinstance(rt, tuple):\n",
    "            total_reaction_time += rt[0] + rt[1]\n",
    "            total_action_count += 2\n",
    "        else:\n",
    "            total_reaction_time += rt\n",
    "            total_action_count += 1\n",
    "    result[subject] = total_reaction_time/total_action_count\n",
    "\n",
    "# plot the histogram of the avg rt times\n",
    "avg_rt = [result[subject] for subject in result]\n",
    "plt.hist(avg_rt, bins=100)\n",
    "\n"
   ],
   "id": "cd07fe6d23482ade",
   "outputs": [
    {
     "data": {
      "text/plain": [
       "(array([ 4.,  5.,  6., 14., 27., 27., 37., 51., 54., 50., 50., 45., 38.,\n",
       "        23., 24., 25., 17., 23., 23., 14.,  5., 13.,  7.,  3.,  3.,  6.,\n",
       "         5.,  4.,  5.,  4.,  1.,  0.,  2.,  2.,  1.,  2.,  5.,  1.,  3.,\n",
       "         3.,  1.,  1.,  0.,  2.,  1.,  1.,  2.,  0.,  1.,  2.,  1.,  0.,\n",
       "         1.,  0.,  1.,  1.,  0.,  0.,  0.,  0.,  0.,  0.,  0.,  0.,  1.,\n",
       "         1.,  1.,  0.,  0.,  0.,  0.,  0.,  0.,  0.,  0.,  0.,  0.,  0.,\n",
       "         0.,  0.,  0.,  0.,  1.,  0.,  0.,  0.,  0.,  0.,  0.,  0.,  0.,\n",
       "         0.,  0.,  0.,  0.,  0.,  0.,  0.,  0.,  1.]),\n",
       " array([0.2670537 , 0.31004002, 0.35302635, 0.39601267, 0.438999  ,\n",
       "        0.48198532, 0.52497165, 0.56795797, 0.6109443 , 0.65393062,\n",
       "        0.69691694, 0.73990327, 0.78288959, 0.82587592, 0.86886224,\n",
       "        0.91184857, 0.95483489, 0.99782122, 1.04080754, 1.08379387,\n",
       "        1.12678019, 1.16976652, 1.21275284, 1.25573917, 1.29872549,\n",
       "        1.34171182, 1.38469814, 1.42768446, 1.47067079, 1.51365711,\n",
       "        1.55664344, 1.59962976, 1.64261609, 1.68560241, 1.72858874,\n",
       "        1.77157506, 1.81456139, 1.85754771, 1.90053404, 1.94352036,\n",
       "        1.98650669, 2.02949301, 2.07247934, 2.11546566, 2.15845199,\n",
       "        2.20143831, 2.24442463, 2.28741096, 2.33039728, 2.37338361,\n",
       "        2.41636993, 2.45935626, 2.50234258, 2.54532891, 2.58831523,\n",
       "        2.63130156, 2.67428788, 2.71727421, 2.76026053, 2.80324686,\n",
       "        2.84623318, 2.88921951, 2.93220583, 2.97519216, 3.01817848,\n",
       "        3.0611648 , 3.10415113, 3.14713745, 3.19012378, 3.2331101 ,\n",
       "        3.27609643, 3.31908275, 3.36206908, 3.4050554 , 3.44804173,\n",
       "        3.49102805, 3.53401438, 3.5770007 , 3.61998703, 3.66297335,\n",
       "        3.70595968, 3.748946  , 3.79193233, 3.83491865, 3.87790497,\n",
       "        3.9208913 , 3.96387762, 4.00686395, 4.04985027, 4.0928366 ,\n",
       "        4.13582292, 4.17880925, 4.22179557, 4.2647819 , 4.30776822,\n",
       "        4.35075455, 4.39374087, 4.4367272 , 4.47971352, 4.52269985,\n",
       "        4.56568617]),\n",
       " <BarContainer object of 100 artists>)"
      ]
     },
     "execution_count": 11,
     "metadata": {},
     "output_type": "execute_result"
    },
    {
     "data": {
      "text/plain": [
       "<Figure size 640x480 with 1 Axes>"
      ],
      "image/png": "[encoded data removed]"
     },
     "metadata": {},
     "output_type": "display_data"
    }
   ],
   "execution_count": 11
  },
  {
   "metadata": {},
   "cell_type": "markdown",
   "source": "# Calculate the subject id of who will be excluded",
   "id": "f02893f34d9fb955"
  },
  {
   "metadata": {
    "ExecuteTime": {
     "end_time": "2024-12-17T18:52:51.671289Z",
     "start_time": "2024-12-17T18:52:51.662509Z"
    }
   },
   "cell_type": "code",
   "source": [
    "# setting for exclusion\n",
    "correct_incorrect_sd = 2\n",
    "right_responses_sd = 2\n",
    "reaction_time_threshold = 3\n",
    "\n",
    "print(f\"total number of subjects: {len(correct_incorrect_count_dict)}\")\n",
    "print(\"setting for exclusion:\")\n",
    "print(f\"correct_incorrect_sd: {correct_incorrect_sd}\")\n",
    "print(f\"right_responses_sd: {right_responses_sd}\")\n",
    "print(f\"reaction_time_threshold: {reaction_time_threshold}\")\n",
    "# find the subjects that will be excluded for correct trials\n",
    "final_set = ()\n",
    "correct_excluded = []\n",
    "correct_mean = sum(correct_trials)/len(correct_trials)\n",
    "correct_sd = sum([abs(x - correct_mean) for x in correct_trials])/len(correct_trials)\n",
    "correct_range = (correct_mean - correct_incorrect_sd * correct_sd, correct_mean + correct_incorrect_sd * correct_sd)\n",
    "for subject, correct in correct_incorrect_count_dict.items():\n",
    "    if correct['correct'] < correct_range[0] or correct['correct'] > correct_range[1]:\n",
    "        correct_excluded.append(subject)\n",
    "print(f\"number of subjects to be excluded for correct trials: {len(correct_excluded)}\")\n",
    "final_set = set(correct_excluded)\n",
    "print(f\"final set size after correct trials: {len(final_set)}\")\n",
    "# find the subjects that will be excluded for right responses\n",
    "right_excluded = []\n",
    "right_mean = sum(right_responses)/len(right_responses)\n",
    "right_sd = sum([abs(x - right_mean) for x in right_responses])/len(right_responses)\n",
    "right_range = (right_mean - right_responses_sd * right_sd, right_mean + right_responses_sd * right_sd)\n",
    "for subject, right in left_right_response_dict.items():\n",
    "    if right['right'] < right_range[0] or right['right'] > right_range[1]:\n",
    "        right_excluded.append(subject)\n",
    "print(f\"number of subjects to be excluded for right responses: {len(right_excluded)}\")\n",
    "final_set = final_set.union(set(right_excluded))\n",
    "print(f\"final set size after right responses: {len(final_set)}\")\n",
    "\n",
    "# find the subjects that will be excluded for reaction time\n",
    "reaction_time_excluded = []\n",
    "for subject, rt in reaction_time_dict.items():\n",
    "    if rt['average_reaction_time'] > reaction_time_threshold:\n",
    "        reaction_time_excluded.append(subject)\n",
    "print(f\"number of subjects to be excluded for reaction time: {len(reaction_time_excluded)}\")\n",
    "final_set = final_set.union(set(reaction_time_excluded))\n",
    "print(f\"final set size after reaction time: {len(final_set)}\")\n",
    "print(final_set)"
   ],
   "id": "57458b7090369da6",
   "outputs": [
    {
     "name": "stdout",
     "output_type": "stream",
     "text": [
      "total number of subjects: 652\n",
      "setting for exclusion:\n",
      "correct_incorrect_sd: 2\n",
      "right_responses_sd: 2\n",
      "reaction_time_threshold: 3\n",
      "number of subjects to be excluded for correct trials: 71\n",
      "final set size after correct trials: 71\n",
      "number of subjects to be excluded for right responses: 72\n",
      "final set size after right responses: 132\n",
      "number of subjects to be excluded for reaction time: 11\n",
      "final set size after reaction time: 140\n",
      "{'663ad1e9c4066faf455c913d', '6136503d70302c9d1aa894f4', '5eb041548fb5a50b442ea70d', '63f78d9a7a3d118594efff74', '66088b078ff8518336021b26', '5f16f559325a640008bb9a07', '62c5d77b4eacc0065ba43fe7', '6626f18372aacd362b3a4fe2', '661403240d2261252260d5bc', '66355fbe799df84584ae9fed', '65182e1e10132ff1a8d56997', '6100ad3174a06d6fb34718ce', '56f9364e895094000c8f4967', '60f4a2d142c69dc1121b6dbf', '6672e7ec7590d5ff3bebe11c', '66673aa947402f713541aa37', '66368ac547b8824e50cfa854', '5efaffccf90911000c95a3cb', '5fc2a5c0ddfca10169395662', '6376916db0ae9a57d377d0d2', '5bdce4e219b9ba000157e993', '648a3e85644594030e52bcfd', '5b915c9d22d85d000115c0f5', '615838a2d65d6be56cc96091', '66703d4a7436b1c576ba4a8c', '60774dd4c93ddbfb673deee1', '663c1db6050ff8907df7909a', '66324bf0d2e7d3036efac146', '662f93c33fe9ba41a6319363', '6488eb2841a2c8ae8a7776ab', '65afa8b1f593e35573960cb6', '616dabffda7757926ea7e84d', '57ad04adddc11d00015bb1c3', '65cc041f70b1949ced29d0dc', '567dd32b4f0ef30006dbb718', '66441863c6ae7938f0e91254', '5d7499693e40c60001081af3', '5fb7dd473afbb1033b491811', '5c69f9dd4b5bb30001b3d31c', '5db0a97f127d4000117cdfa0', '66562a0038182ffa52b47afe', '664288ab31739a1dffbb2c60', '63ee65e3470c23cb401ca89a', '665f58d933f0031a4058b642', '646774e0f86825ab62c37581', '65faa015b08626882ddef940', '5d586fdc8200f50001f03a0e', '62e15dfab54f025985de6b5c', '5df4565dfeea89323021ef27', '56780a5a89319e0011644cb4', '6051443969acb1800712d081', '65c26e8407c01d7f38da9858', '5c095f832570ea0001642474', '6348846ae221cb4a0efbf3f9', '55eb04337480920010aa9e0d', '6543ae60986d42c7abb2e78e', '65e36d287b3844081e1f9613', '602e763eef81ce9e57528e1e', '63bb9d1d25b272b93b81523a', '5658000ca9872d0011e1ba26', '65f33586e630ca372dfc96f8', '5ee1236e7f235110ac6c4ff4', '5f765a3c8a6ec010370c9cc1', '6025b3681ff1521a3369dffe', '60147514665c424b4b812e7d', '61bb392e40db417c1a138dcb', '5a95a63e4eecca0001dd4cfa', '6557311b0fd795ca70b212cc', '60a7eb63dab0406a75e79293', '63dac3039dddeaa909a790fb', '64ec9ed85cb559b2dd473883', '5b78542ef642ed0001517ca0', '6658c12121d17e38d247f857', '656cbe939b8a5cc866d7ccd2', '6565f2f48b9c168ae6c249bc', '59948cbdcf1d1700016efa45', '5e863db644d87426bbe2e92a', '667ee8820ae609e59545b5bc', '6638f3d967d2828b285f176d', '611622ddd8be1ac51298cb89', '65f7c77cc240bb287a4a0dab', '6637725bb8c26344d88019bb', '606a3cf263a18869ac8ee0ed', '5fa4c21a04bc5912180291bc', '65170efd2a0e6965260a7fc9', '5e1f7b2a4c9b832b34e7c9d3', '6556a01177d7a552a0819714', '60f8cc430a3d06de34a78773', '63effbb357025439ef9f8843', '659cc63ff59c72a20e2b7688', '5dd5c04f86c88658b24d4cde', '58935d5d4d77be0001689f14', '65e33239b5fa3ca93950aa67', '654479967bcbed623a65a831', '6165af4b36cb3bae91f2e355', '641357b26802e397b5627d5e', '56ec9fa4f9ffc4000ac1941b', '65fab55532461b0eaf2236b6', '665f1275a8344d26d5e340f5', '66707536a4f76cc874a404bc', '665652337f7a6a3a5aff1e15', '60b49cb1dc5470789edd23fe', '650739048d93f13a5f6b200b', '60d5c363dd49bcb80e528806', '63d9bbe653e18c0a4e74f51f', '6641174a70570c7bf4758e35', '5a5ec79cacc75b00017aa095', '62b0ff84054c6ca32f481c65', '6658c0f0eacd7bcadeef8a56', '612fa6644526903f736cf925', '57d0a0bee3221e00015fe385', '60e36e6ecb9f00e7b4dab92e', '664384e8d6cae57c73e3d8c6', '65f4e1f8008a169d7ecde720', '65eb230ebabf00edfeb036e6', '60173ba4df028898aa20838a', '6647e0c35e49c207ba28fdb9', '66171378a0d58cc04011f002', '604011377e5b121dc3267a3e', '63cc62e53735576a651d54a9', '627d1b0ff09ff00d79eb9d35', '65ce6e580ff7827d2f4d5145', '66847eccb4a565bacffd62b6', '63f78c9346da47f7f8f3aef9', '65e2cb31fb9eabd44a2febbb', '65fb06f7968577006d9665c4', '65bd4eb549b019b9990328dc', '562eb896733ea000051638c6', '65f0677c96375d7ff6595772', '651b1eb597d19205a5069db5', '5c9623dd35599200175642e4', '661104c7d8d32b3a4736a59c', '6697422670466cbd029533a6', '6330e50102d0e9d363d139b2', '64ed752fc6520eb4d00b1992', '667fb298629d2b1d2c7ac461', '663e84e6b5670c18c681bb30', '60fa0929b83c13a26cd1b8d7', '5b23d0784fb0d40001e95407', '65e84adb6f06957a658f1f25'}\n"
     ]
    }
   ],
   "execution_count": 17
  },
  {
   "metadata": {
    "ExecuteTime": {
     "end_time": "2024-12-17T18:47:11.864431Z",
     "start_time": "2024-12-17T18:47:11.854624Z"
    }
   },
   "cell_type": "code",
   "source": "",
   "id": "77ce732ebb03d941",
   "outputs": [],
   "execution_count": null
  },
  {
   "metadata": {},
   "cell_type": "code",
   "outputs": [],
   "execution_count": null,
   "source": "",
   "id": "ead55089574021b4"
  }
 ],
 "metadata": {
  "kernelspec": {
   "display_name": "Python 3",
   "language": "python",
   "name": "python3"
  },
  "language_info": {
   "codemirror_mode": {
    "name": "ipython",
    "version": 2
   },
   "file_extension": ".py",
   "mimetype": "text/x-python",
   "name": "python",
   "nbconvert_exporter": "python",
   "pygments_lexer": "ipython2",
   "version": "2.7.6"
  }
 },
 "nbformat": 4,
 "nbformat_minor": 5
}
